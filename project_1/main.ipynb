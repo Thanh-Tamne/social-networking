{
 "cells": [
  {
   "cell_type": "markdown",
   "id": "47e30032",
   "metadata": {},
   "source": [
    "# xử lý dữ liệu"
   ]
  },
  {
   "cell_type": "markdown",
   "id": "69f70369",
   "metadata": {},
   "source": [
    "## Làm sạch dữ liệu"
   ]
  },
  {
   "cell_type": "code",
   "execution_count": 14,
   "id": "bdffe4df",
   "metadata": {},
   "outputs": [
    {
     "name": "stdout",
     "output_type": "stream",
     "text": [
      "== TÓM TẮT BƯỚC 2 ==\n",
      "Số phim: 176 | Số diễn viên: 569 | Số dòng phim–diễn viên: 1041\n"
     ]
    },
    {
     "data": {
      "application/vnd.microsoft.datawrangler.viewer.v0+json": {
       "columns": [
        {
         "name": "index",
         "rawType": "int64",
         "type": "integer"
        },
        {
         "name": "Tên phim",
         "rawType": "object",
         "type": "string"
        },
        {
         "name": "Diễn viên",
         "rawType": "object",
         "type": "string"
        }
       ],
       "ref": "b65861f4-71c0-416d-bf5f-996c3855fa63",
       "rows": [
        [
         "0",
         "Đôi mắt âm dương",
         "Thu Trang, Quốc Trường, Bảo Thanh, NSND Ngọc Giàu, Trung Dân..."
        ],
        [
         "1",
         "30 chưa phải tết",
         "NSND Việt Anh, NSND Hồng Vân, Trường Giang, Mạc Văn Khoa, Tấn Beo, Đức Phúc, Phương Thanh..."
        ],
        [
         "2",
         "Gái già lắm chiêu 3",
         "Ninh Dương Lan Ngọc, NSND Hồng Vân, NSND Lê Khanh, Jun Vũ, Lê Xuân Tiền..."
        ]
       ],
       "shape": {
        "columns": 2,
        "rows": 3
       }
      },
      "text/html": [
       "<div>\n",
       "<style scoped>\n",
       "    .dataframe tbody tr th:only-of-type {\n",
       "        vertical-align: middle;\n",
       "    }\n",
       "\n",
       "    .dataframe tbody tr th {\n",
       "        vertical-align: top;\n",
       "    }\n",
       "\n",
       "    .dataframe thead th {\n",
       "        text-align: right;\n",
       "    }\n",
       "</style>\n",
       "<table border=\"1\" class=\"dataframe\">\n",
       "  <thead>\n",
       "    <tr style=\"text-align: right;\">\n",
       "      <th></th>\n",
       "      <th>Tên phim</th>\n",
       "      <th>Diễn viên</th>\n",
       "    </tr>\n",
       "  </thead>\n",
       "  <tbody>\n",
       "    <tr>\n",
       "      <th>0</th>\n",
       "      <td>Đôi mắt âm dương</td>\n",
       "      <td>Thu Trang, Quốc Trường, Bảo Thanh, NSND Ngọc G...</td>\n",
       "    </tr>\n",
       "    <tr>\n",
       "      <th>1</th>\n",
       "      <td>30 chưa phải tết</td>\n",
       "      <td>NSND Việt Anh, NSND Hồng Vân, Trường Giang, Mạ...</td>\n",
       "    </tr>\n",
       "    <tr>\n",
       "      <th>2</th>\n",
       "      <td>Gái già lắm chiêu 3</td>\n",
       "      <td>Ninh Dương Lan Ngọc, NSND Hồng Vân, NSND Lê Kh...</td>\n",
       "    </tr>\n",
       "  </tbody>\n",
       "</table>\n",
       "</div>"
      ],
      "text/plain": [
       "              Tên phim                                          Diễn viên\n",
       "0     Đôi mắt âm dương  Thu Trang, Quốc Trường, Bảo Thanh, NSND Ngọc G...\n",
       "1     30 chưa phải tết  NSND Việt Anh, NSND Hồng Vân, Trường Giang, Mạ...\n",
       "2  Gái già lắm chiêu 3  Ninh Dương Lan Ngọc, NSND Hồng Vân, NSND Lê Kh..."
      ]
     },
     "metadata": {},
     "output_type": "display_data"
    },
    {
     "data": {
      "application/vnd.microsoft.datawrangler.viewer.v0+json": {
       "columns": [
        {
         "name": "index",
         "rawType": "int64",
         "type": "integer"
        },
        {
         "name": "movie_name",
         "rawType": "object",
         "type": "string"
        },
        {
         "name": "actor_name",
         "rawType": "object",
         "type": "string"
        },
        {
         "name": "movie_key",
         "rawType": "object",
         "type": "string"
        },
        {
         "name": "actor_key",
         "rawType": "object",
         "type": "string"
        }
       ],
       "ref": "431cb7b8-0e15-4aa8-b528-5ab6c29c69d7",
       "rows": [
        [
         "0",
         "Đôi mắt âm dương",
         "Thu Trang",
         "đoi mat am duong",
         "thu trang"
        ],
        [
         "1",
         "Đôi mắt âm dương",
         "Quốc Trường",
         "đoi mat am duong",
         "quoc truong"
        ],
        [
         "2",
         "Đôi mắt âm dương",
         "Bảo Thanh",
         "đoi mat am duong",
         "bao thanh"
        ],
        [
         "3",
         "Đôi mắt âm dương",
         "NSND Ngọc Giàu",
         "đoi mat am duong",
         "nsnd ngoc giau"
        ],
        [
         "4",
         "Đôi mắt âm dương",
         "Trung Dân",
         "đoi mat am duong",
         "trung dan"
        ]
       ],
       "shape": {
        "columns": 4,
        "rows": 5
       }
      },
      "text/html": [
       "<div>\n",
       "<style scoped>\n",
       "    .dataframe tbody tr th:only-of-type {\n",
       "        vertical-align: middle;\n",
       "    }\n",
       "\n",
       "    .dataframe tbody tr th {\n",
       "        vertical-align: top;\n",
       "    }\n",
       "\n",
       "    .dataframe thead th {\n",
       "        text-align: right;\n",
       "    }\n",
       "</style>\n",
       "<table border=\"1\" class=\"dataframe\">\n",
       "  <thead>\n",
       "    <tr style=\"text-align: right;\">\n",
       "      <th></th>\n",
       "      <th>movie_name</th>\n",
       "      <th>actor_name</th>\n",
       "      <th>movie_key</th>\n",
       "      <th>actor_key</th>\n",
       "    </tr>\n",
       "  </thead>\n",
       "  <tbody>\n",
       "    <tr>\n",
       "      <th>0</th>\n",
       "      <td>Đôi mắt âm dương</td>\n",
       "      <td>Thu Trang</td>\n",
       "      <td>đoi mat am duong</td>\n",
       "      <td>thu trang</td>\n",
       "    </tr>\n",
       "    <tr>\n",
       "      <th>1</th>\n",
       "      <td>Đôi mắt âm dương</td>\n",
       "      <td>Quốc Trường</td>\n",
       "      <td>đoi mat am duong</td>\n",
       "      <td>quoc truong</td>\n",
       "    </tr>\n",
       "    <tr>\n",
       "      <th>2</th>\n",
       "      <td>Đôi mắt âm dương</td>\n",
       "      <td>Bảo Thanh</td>\n",
       "      <td>đoi mat am duong</td>\n",
       "      <td>bao thanh</td>\n",
       "    </tr>\n",
       "    <tr>\n",
       "      <th>3</th>\n",
       "      <td>Đôi mắt âm dương</td>\n",
       "      <td>NSND Ngọc Giàu</td>\n",
       "      <td>đoi mat am duong</td>\n",
       "      <td>nsnd ngoc giau</td>\n",
       "    </tr>\n",
       "    <tr>\n",
       "      <th>4</th>\n",
       "      <td>Đôi mắt âm dương</td>\n",
       "      <td>Trung Dân</td>\n",
       "      <td>đoi mat am duong</td>\n",
       "      <td>trung dan</td>\n",
       "    </tr>\n",
       "  </tbody>\n",
       "</table>\n",
       "</div>"
      ],
      "text/plain": [
       "         movie_name      actor_name         movie_key       actor_key\n",
       "0  Đôi mắt âm dương       Thu Trang  đoi mat am duong       thu trang\n",
       "1  Đôi mắt âm dương     Quốc Trường  đoi mat am duong     quoc truong\n",
       "2  Đôi mắt âm dương       Bảo Thanh  đoi mat am duong       bao thanh\n",
       "3  Đôi mắt âm dương  NSND Ngọc Giàu  đoi mat am duong  nsnd ngoc giau\n",
       "4  Đôi mắt âm dương       Trung Dân  đoi mat am duong       trung dan"
      ]
     },
     "metadata": {},
     "output_type": "display_data"
    },
    {
     "data": {
      "application/vnd.microsoft.datawrangler.viewer.v0+json": {
       "columns": [
        {
         "name": "index",
         "rawType": "int64",
         "type": "integer"
        },
        {
         "name": "movie_id",
         "rawType": "object",
         "type": "string"
        },
        {
         "name": "movie_name",
         "rawType": "object",
         "type": "string"
        },
        {
         "name": "movie_key",
         "rawType": "object",
         "type": "string"
        }
       ],
       "ref": "7924605a-11ee-4a36-b7ef-d14e035a00ef",
       "rows": [
        [
         "0",
         "M000001",
         "1990",
         "1990"
        ],
        [
         "1",
         "M000002",
         "30 chưa phải tết",
         "30 chua phai tet"
        ],
        [
         "2",
         "M000003",
         "578: Phát đạn của kẻ điên",
         "578: phat đan cua ke đien"
        ],
        [
         "3",
         "M000004",
         "Ai thương ai mến",
         "ai thuong ai men"
        ],
        [
         "4",
         "M000005",
         "B4S – Trước giờ \"Yêu\"",
         "b4s – truoc gio \"yeu\""
        ]
       ],
       "shape": {
        "columns": 3,
        "rows": 5
       }
      },
      "text/html": [
       "<div>\n",
       "<style scoped>\n",
       "    .dataframe tbody tr th:only-of-type {\n",
       "        vertical-align: middle;\n",
       "    }\n",
       "\n",
       "    .dataframe tbody tr th {\n",
       "        vertical-align: top;\n",
       "    }\n",
       "\n",
       "    .dataframe thead th {\n",
       "        text-align: right;\n",
       "    }\n",
       "</style>\n",
       "<table border=\"1\" class=\"dataframe\">\n",
       "  <thead>\n",
       "    <tr style=\"text-align: right;\">\n",
       "      <th></th>\n",
       "      <th>movie_id</th>\n",
       "      <th>movie_name</th>\n",
       "      <th>movie_key</th>\n",
       "    </tr>\n",
       "  </thead>\n",
       "  <tbody>\n",
       "    <tr>\n",
       "      <th>0</th>\n",
       "      <td>M000001</td>\n",
       "      <td>1990</td>\n",
       "      <td>1990</td>\n",
       "    </tr>\n",
       "    <tr>\n",
       "      <th>1</th>\n",
       "      <td>M000002</td>\n",
       "      <td>30 chưa phải tết</td>\n",
       "      <td>30 chua phai tet</td>\n",
       "    </tr>\n",
       "    <tr>\n",
       "      <th>2</th>\n",
       "      <td>M000003</td>\n",
       "      <td>578: Phát đạn của kẻ điên</td>\n",
       "      <td>578: phat đan cua ke đien</td>\n",
       "    </tr>\n",
       "    <tr>\n",
       "      <th>3</th>\n",
       "      <td>M000004</td>\n",
       "      <td>Ai thương ai mến</td>\n",
       "      <td>ai thuong ai men</td>\n",
       "    </tr>\n",
       "    <tr>\n",
       "      <th>4</th>\n",
       "      <td>M000005</td>\n",
       "      <td>B4S – Trước giờ \"Yêu\"</td>\n",
       "      <td>b4s – truoc gio \"yeu\"</td>\n",
       "    </tr>\n",
       "  </tbody>\n",
       "</table>\n",
       "</div>"
      ],
      "text/plain": [
       "  movie_id                 movie_name                  movie_key\n",
       "0  M000001                       1990                       1990\n",
       "1  M000002           30 chưa phải tết           30 chua phai tet\n",
       "2  M000003  578: Phát đạn của kẻ điên  578: phat đan cua ke đien\n",
       "3  M000004           Ai thương ai mến           ai thuong ai men\n",
       "4  M000005      B4S – Trước giờ \"Yêu\"      b4s – truoc gio \"yeu\""
      ]
     },
     "metadata": {},
     "output_type": "display_data"
    },
    {
     "data": {
      "application/vnd.microsoft.datawrangler.viewer.v0+json": {
       "columns": [
        {
         "name": "index",
         "rawType": "int64",
         "type": "integer"
        },
        {
         "name": "actor_id",
         "rawType": "object",
         "type": "string"
        },
        {
         "name": "actor_name",
         "rawType": "object",
         "type": "string"
        },
        {
         "name": "actor_key",
         "rawType": "object",
         "type": "string"
        }
       ],
       "ref": "ab22d38e-dd67-473b-807a-b6fbd40e7ecb",
       "rows": [
        [
         "0",
         "A000001",
         "A Tới",
         "a toi"
        ],
        [
         "1",
         "A000002",
         "Amee",
         "amee"
        ],
        [
         "2",
         "A000003",
         "Anh Dũng",
         "anh dung"
        ],
        [
         "3",
         "A000004",
         "Anh Phạm",
         "anh pham"
        ],
        [
         "4",
         "A000005",
         "Anh Thư",
         "anh thu"
        ]
       ],
       "shape": {
        "columns": 3,
        "rows": 5
       }
      },
      "text/html": [
       "<div>\n",
       "<style scoped>\n",
       "    .dataframe tbody tr th:only-of-type {\n",
       "        vertical-align: middle;\n",
       "    }\n",
       "\n",
       "    .dataframe tbody tr th {\n",
       "        vertical-align: top;\n",
       "    }\n",
       "\n",
       "    .dataframe thead th {\n",
       "        text-align: right;\n",
       "    }\n",
       "</style>\n",
       "<table border=\"1\" class=\"dataframe\">\n",
       "  <thead>\n",
       "    <tr style=\"text-align: right;\">\n",
       "      <th></th>\n",
       "      <th>actor_id</th>\n",
       "      <th>actor_name</th>\n",
       "      <th>actor_key</th>\n",
       "    </tr>\n",
       "  </thead>\n",
       "  <tbody>\n",
       "    <tr>\n",
       "      <th>0</th>\n",
       "      <td>A000001</td>\n",
       "      <td>A Tới</td>\n",
       "      <td>a toi</td>\n",
       "    </tr>\n",
       "    <tr>\n",
       "      <th>1</th>\n",
       "      <td>A000002</td>\n",
       "      <td>Amee</td>\n",
       "      <td>amee</td>\n",
       "    </tr>\n",
       "    <tr>\n",
       "      <th>2</th>\n",
       "      <td>A000003</td>\n",
       "      <td>Anh Dũng</td>\n",
       "      <td>anh dung</td>\n",
       "    </tr>\n",
       "    <tr>\n",
       "      <th>3</th>\n",
       "      <td>A000004</td>\n",
       "      <td>Anh Phạm</td>\n",
       "      <td>anh pham</td>\n",
       "    </tr>\n",
       "    <tr>\n",
       "      <th>4</th>\n",
       "      <td>A000005</td>\n",
       "      <td>Anh Thư</td>\n",
       "      <td>anh thu</td>\n",
       "    </tr>\n",
       "  </tbody>\n",
       "</table>\n",
       "</div>"
      ],
      "text/plain": [
       "  actor_id actor_name actor_key\n",
       "0  A000001      A Tới     a toi\n",
       "1  A000002       Amee      amee\n",
       "2  A000003   Anh Dũng  anh dung\n",
       "3  A000004   Anh Phạm  anh pham\n",
       "4  A000005    Anh Thư   anh thu"
      ]
     },
     "metadata": {},
     "output_type": "display_data"
    },
    {
     "data": {
      "application/vnd.microsoft.datawrangler.viewer.v0+json": {
       "columns": [
        {
         "name": "index",
         "rawType": "int64",
         "type": "integer"
        },
        {
         "name": "movie_id",
         "rawType": "object",
         "type": "string"
        },
        {
         "name": "actor_id",
         "rawType": "object",
         "type": "string"
        }
       ],
       "ref": "297662b3-6f91-47df-aa65-cc56a1273d85",
       "rows": [
        [
         "0",
         "M000169",
         "A000425"
        ],
        [
         "1",
         "M000169",
         "A000385"
        ],
        [
         "2",
         "M000169",
         "A000035"
        ],
        [
         "3",
         "M000169",
         "A000259"
        ],
        [
         "4",
         "M000169",
         "A000449"
        ]
       ],
       "shape": {
        "columns": 2,
        "rows": 5
       }
      },
      "text/html": [
       "<div>\n",
       "<style scoped>\n",
       "    .dataframe tbody tr th:only-of-type {\n",
       "        vertical-align: middle;\n",
       "    }\n",
       "\n",
       "    .dataframe tbody tr th {\n",
       "        vertical-align: top;\n",
       "    }\n",
       "\n",
       "    .dataframe thead th {\n",
       "        text-align: right;\n",
       "    }\n",
       "</style>\n",
       "<table border=\"1\" class=\"dataframe\">\n",
       "  <thead>\n",
       "    <tr style=\"text-align: right;\">\n",
       "      <th></th>\n",
       "      <th>movie_id</th>\n",
       "      <th>actor_id</th>\n",
       "    </tr>\n",
       "  </thead>\n",
       "  <tbody>\n",
       "    <tr>\n",
       "      <th>0</th>\n",
       "      <td>M000169</td>\n",
       "      <td>A000425</td>\n",
       "    </tr>\n",
       "    <tr>\n",
       "      <th>1</th>\n",
       "      <td>M000169</td>\n",
       "      <td>A000385</td>\n",
       "    </tr>\n",
       "    <tr>\n",
       "      <th>2</th>\n",
       "      <td>M000169</td>\n",
       "      <td>A000035</td>\n",
       "    </tr>\n",
       "    <tr>\n",
       "      <th>3</th>\n",
       "      <td>M000169</td>\n",
       "      <td>A000259</td>\n",
       "    </tr>\n",
       "    <tr>\n",
       "      <th>4</th>\n",
       "      <td>M000169</td>\n",
       "      <td>A000449</td>\n",
       "    </tr>\n",
       "  </tbody>\n",
       "</table>\n",
       "</div>"
      ],
      "text/plain": [
       "  movie_id actor_id\n",
       "0  M000169  A000425\n",
       "1  M000169  A000385\n",
       "2  M000169  A000035\n",
       "3  M000169  A000259\n",
       "4  M000169  A000449"
      ]
     },
     "metadata": {},
     "output_type": "display_data"
    }
   ],
   "source": [
    "import re, unicodedata\n",
    "import pandas as pd\n",
    "\n",
    "INPUT_TWO_COLS = r\"/Users/huy/Documents/Hutech/HK1A 2025-2026/social-networking/project_1/phim_dienvien.csv\"\n",
    "MOVIE_COL = \"Tên phim\"\n",
    "CAST_COL  = \"Diễn viên\"\n",
    "\n",
    "def norm_ws(s: str) -> str:\n",
    "    return re.sub(r\"\\s+\", \" \", str(s) if s is not None else \"\").strip()\n",
    "\n",
    "def strip_accents(text: str) -> str:\n",
    "    if not isinstance(text, str):\n",
    "        text = str(text) if pd.notna(text) else \"\"\n",
    "    text = unicodedata.normalize(\"NFD\", text)\n",
    "    text = \"\".join(ch for ch in text if unicodedata.category(ch) != \"Mn\")\n",
    "    return unicodedata.normalize(\"NFKC\", text)\n",
    "\n",
    "def normalize_key(name: str) -> str:\n",
    "    \"\"\"Tạo khóa gộp trùng: bỏ dấu + hạ chuẩn chữ, bỏ dấu chấm lửng, chuẩn khoảng trắng.\"\"\"\n",
    "    s = strip_accents(str(name)).casefold().strip()\n",
    "    s = re.sub(r\"\\s+\", \" \", s)\n",
    "    s = re.sub(r\"[.…]+$\", \"\", s).strip(\" ,;\")\n",
    "    return s\n",
    "\n",
    "def split_cast_better(text: str):\n",
    "    \"\"\"\n",
    "    Quy tắc:\n",
    "      - 'FAPtv (Huỳnh Phương, Thái Vũ, Vinh Râu, ...)' -> ['Huỳnh Phương','Thái Vũ','Vinh Râu']\n",
    "      - 'Lương Anh Vũ (Alvin Lu)' -> ['Lương Anh Vũ']  (bỏ alias)\n",
    "      - Tách theo ',' hoặc ';' bình thường.\n",
    "      - Bỏ '…'/'...' và khoảng trắng/dấu thừa.\n",
    "    \"\"\"\n",
    "    if text is None or not str(text).strip():\n",
    "        return []\n",
    "    s = norm_ws(text)\n",
    "    s = re.sub(r\"[.…]+$\", \"\", s).strip()\n",
    "\n",
    "    raw_tokens = [t.strip(\" ,;\") for t in re.split(r\"[;,]\", s) if t.strip(\" ,;\")]\n",
    "    out = []\n",
    "    for tok in raw_tokens:\n",
    "        m = re.match(r\"^(.*?)(\\(([^()]*)\\))$\", tok)  # phần_trước (bên_trong)\n",
    "        if m:\n",
    "            before = norm_ws(m.group(1))\n",
    "            inside = norm_ws(m.group(3))\n",
    "            if inside.count(\",\") >= 1:\n",
    "                # group-list -> lấy các thành viên bên trong\n",
    "                members = [norm_ws(x) for x in inside.split(\",\") if norm_ws(x)]\n",
    "                members = [re.sub(r\"[.…]+$\", \"\", x).strip(\" ,;\") for x in members]\n",
    "                out.extend(members)\n",
    "            else:\n",
    "                # alias -> giữ phần trước ngoặc\n",
    "                if before:\n",
    "                    out.append(before)\n",
    "                elif inside:\n",
    "                    out.append(inside)\n",
    "        else:\n",
    "            out.append(tok)\n",
    "\n",
    "    out = [norm_ws(re.sub(r\"[.…]+$\", \"\", x)).strip(\" ,;\") for x in out]\n",
    "    out = [x for x in out if x]\n",
    "\n",
    "    # unique theo thứ tự xuất hiện trong CÙNG 1 phim\n",
    "    seen = set(); dedup = []\n",
    "    for x in out:\n",
    "        if x not in seen:\n",
    "            seen.add(x); dedup.append(x)\n",
    "    return dedup\n",
    "\n",
    "# ---- đọc file & chuẩn tên cột ----\n",
    "df = pd.read_csv(INPUT_TWO_COLS, sep=None, engine=\"python\", encoding=\"utf-8-sig\")\n",
    "df.columns = [norm_ws(c.replace(\"\\ufeff\",\"\")) for c in df.columns]\n",
    "assert MOVIE_COL in df.columns and CAST_COL in df.columns, \"Thiếu cột bắt buộc.\"\n",
    "\n",
    "# ---- tạo bảng dài phim–diễn viên ----\n",
    "rows = []\n",
    "for _, row in df[[MOVIE_COL, CAST_COL]].iterrows():\n",
    "    movie = norm_ws(row[MOVIE_COL])\n",
    "    for actor in split_cast_better(row[CAST_COL]):\n",
    "        rows.append({\"movie_name\": movie, \"actor_name\": norm_ws(actor)})\n",
    "\n",
    "long_df = pd.DataFrame(rows)\n",
    "# khóa chuẩn hóa để gộp trùng\n",
    "long_df[\"movie_key\"] = long_df[\"movie_name\"].map(normalize_key)\n",
    "long_df[\"actor_key\"] = long_df[\"actor_name\"].map(normalize_key)\n",
    "\n",
    "# loại trùng trong cùng 1 phim (sau chuẩn hóa)\n",
    "long_df = long_df.drop_duplicates(subset=[\"movie_key\",\"actor_key\"]).reset_index(drop=True)\n",
    "\n",
    "# ---- sinh ID ổn định cho phim & diễn viên ----\n",
    "movies_df = (long_df[[\"movie_key\",\"movie_name\"]]\n",
    "             .drop_duplicates(\"movie_key\")\n",
    "             .sort_values(\"movie_name\")\n",
    "             .reset_index(drop=True))\n",
    "movies_df[\"movie_id\"] = [f\"M{idx+1:06d}\" for idx in range(len(movies_df))]\n",
    "movies_df = movies_df[[\"movie_id\",\"movie_name\",\"movie_key\"]]\n",
    "\n",
    "actors_df = (long_df[[\"actor_key\",\"actor_name\"]]\n",
    "             .drop_duplicates(\"actor_key\")\n",
    "             .sort_values(\"actor_name\")\n",
    "             .reset_index(drop=True))\n",
    "actors_df[\"actor_id\"] = [f\"A{idx+1:06d}\" for idx in range(len(actors_df))]\n",
    "actors_df = actors_df[[\"actor_id\",\"actor_name\",\"actor_key\"]]\n",
    "\n",
    "movies_actors_df = (long_df.merge(movies_df[[\"movie_id\",\"movie_key\"]], on=\"movie_key\", how=\"left\")\n",
    "                           .merge(actors_df[[\"actor_id\",\"actor_key\"]], on=\"actor_key\", how=\"left\")\n",
    "                           [[\"movie_id\",\"actor_id\"]]\n",
    "                           .dropna()\n",
    "                           .drop_duplicates()\n",
    "                           .reset_index(drop=True))\n",
    "\n",
    "print(\"== TÓM TẮT BƯỚC 2 ==\")\n",
    "print(f\"Số phim: {len(movies_df)} | Số diễn viên: {len(actors_df)} | Số dòng phim–diễn viên: {len(movies_actors_df)}\")\n",
    "display(df.head(3))\n",
    "display(long_df.head(5))\n",
    "display(movies_df.head(5))\n",
    "display(actors_df.head(5))\n",
    "display(movies_actors_df.head(5))"
   ]
  },
  {
   "cell_type": "code",
   "execution_count": 15,
   "id": "b241e24f",
   "metadata": {},
   "outputs": [
    {
     "name": "stdout",
     "output_type": "stream",
     "text": [
      "- Dòng có NA: 0\n",
      "- Dòng trùng: 0\n",
      "- Tổng số quan hệ phim–diễn viên: 1041\n",
      "- movies_actors: (1041, 2) (movie_id, actor_id)\n",
      "- movies: (176, 2) (movie_id, movie_name)\n",
      "- actors: (569, 2) (actor_id, actor_name)\n"
     ]
    },
    {
     "data": {
      "application/vnd.microsoft.datawrangler.viewer.v0+json": {
       "columns": [
        {
         "name": "index",
         "rawType": "int64",
         "type": "integer"
        },
        {
         "name": "movie_id",
         "rawType": "object",
         "type": "string"
        },
        {
         "name": "actor_id",
         "rawType": "object",
         "type": "string"
        }
       ],
       "ref": "df9492f8-9105-483d-a994-b2f33157c984",
       "rows": [
        [
         "0",
         "M000169",
         "A000425"
        ],
        [
         "1",
         "M000169",
         "A000385"
        ],
        [
         "2",
         "M000169",
         "A000035"
        ],
        [
         "3",
         "M000169",
         "A000259"
        ],
        [
         "4",
         "M000169",
         "A000449"
        ],
        [
         "5",
         "M000002",
         "A000265"
        ],
        [
         "6",
         "M000002",
         "A000255"
        ],
        [
         "7",
         "M000002",
         "A000465"
        ],
        [
         "8",
         "M000002",
         "A000249"
        ],
        [
         "9",
         "M000002",
         "A000502"
        ]
       ],
       "shape": {
        "columns": 2,
        "rows": 10
       }
      },
      "text/html": [
       "<div>\n",
       "<style scoped>\n",
       "    .dataframe tbody tr th:only-of-type {\n",
       "        vertical-align: middle;\n",
       "    }\n",
       "\n",
       "    .dataframe tbody tr th {\n",
       "        vertical-align: top;\n",
       "    }\n",
       "\n",
       "    .dataframe thead th {\n",
       "        text-align: right;\n",
       "    }\n",
       "</style>\n",
       "<table border=\"1\" class=\"dataframe\">\n",
       "  <thead>\n",
       "    <tr style=\"text-align: right;\">\n",
       "      <th></th>\n",
       "      <th>movie_id</th>\n",
       "      <th>actor_id</th>\n",
       "    </tr>\n",
       "  </thead>\n",
       "  <tbody>\n",
       "    <tr>\n",
       "      <th>0</th>\n",
       "      <td>M000169</td>\n",
       "      <td>A000425</td>\n",
       "    </tr>\n",
       "    <tr>\n",
       "      <th>1</th>\n",
       "      <td>M000169</td>\n",
       "      <td>A000385</td>\n",
       "    </tr>\n",
       "    <tr>\n",
       "      <th>2</th>\n",
       "      <td>M000169</td>\n",
       "      <td>A000035</td>\n",
       "    </tr>\n",
       "    <tr>\n",
       "      <th>3</th>\n",
       "      <td>M000169</td>\n",
       "      <td>A000259</td>\n",
       "    </tr>\n",
       "    <tr>\n",
       "      <th>4</th>\n",
       "      <td>M000169</td>\n",
       "      <td>A000449</td>\n",
       "    </tr>\n",
       "    <tr>\n",
       "      <th>5</th>\n",
       "      <td>M000002</td>\n",
       "      <td>A000265</td>\n",
       "    </tr>\n",
       "    <tr>\n",
       "      <th>6</th>\n",
       "      <td>M000002</td>\n",
       "      <td>A000255</td>\n",
       "    </tr>\n",
       "    <tr>\n",
       "      <th>7</th>\n",
       "      <td>M000002</td>\n",
       "      <td>A000465</td>\n",
       "    </tr>\n",
       "    <tr>\n",
       "      <th>8</th>\n",
       "      <td>M000002</td>\n",
       "      <td>A000249</td>\n",
       "    </tr>\n",
       "    <tr>\n",
       "      <th>9</th>\n",
       "      <td>M000002</td>\n",
       "      <td>A000502</td>\n",
       "    </tr>\n",
       "  </tbody>\n",
       "</table>\n",
       "</div>"
      ],
      "text/plain": [
       "  movie_id actor_id\n",
       "0  M000169  A000425\n",
       "1  M000169  A000385\n",
       "2  M000169  A000035\n",
       "3  M000169  A000259\n",
       "4  M000169  A000449\n",
       "5  M000002  A000265\n",
       "6  M000002  A000255\n",
       "7  M000002  A000465\n",
       "8  M000002  A000249\n",
       "9  M000002  A000502"
      ]
     },
     "metadata": {},
     "output_type": "display_data"
    },
    {
     "data": {
      "application/vnd.microsoft.datawrangler.viewer.v0+json": {
       "columns": [
        {
         "name": "index",
         "rawType": "int64",
         "type": "integer"
        },
        {
         "name": "movie_id",
         "rawType": "object",
         "type": "string"
        },
        {
         "name": "movie_name",
         "rawType": "object",
         "type": "string"
        }
       ],
       "ref": "b9a061bd-8ffc-479d-8970-9182e05d3aff",
       "rows": [
        [
         "0",
         "M000001",
         "1990"
        ],
        [
         "1",
         "M000002",
         "30 chưa phải tết"
        ],
        [
         "2",
         "M000003",
         "578: Phát đạn của kẻ điên"
        ],
        [
         "3",
         "M000004",
         "Ai thương ai mến"
        ],
        [
         "4",
         "M000005",
         "B4S – Trước giờ \"Yêu\""
        ]
       ],
       "shape": {
        "columns": 2,
        "rows": 5
       }
      },
      "text/html": [
       "<div>\n",
       "<style scoped>\n",
       "    .dataframe tbody tr th:only-of-type {\n",
       "        vertical-align: middle;\n",
       "    }\n",
       "\n",
       "    .dataframe tbody tr th {\n",
       "        vertical-align: top;\n",
       "    }\n",
       "\n",
       "    .dataframe thead th {\n",
       "        text-align: right;\n",
       "    }\n",
       "</style>\n",
       "<table border=\"1\" class=\"dataframe\">\n",
       "  <thead>\n",
       "    <tr style=\"text-align: right;\">\n",
       "      <th></th>\n",
       "      <th>movie_id</th>\n",
       "      <th>movie_name</th>\n",
       "    </tr>\n",
       "  </thead>\n",
       "  <tbody>\n",
       "    <tr>\n",
       "      <th>0</th>\n",
       "      <td>M000001</td>\n",
       "      <td>1990</td>\n",
       "    </tr>\n",
       "    <tr>\n",
       "      <th>1</th>\n",
       "      <td>M000002</td>\n",
       "      <td>30 chưa phải tết</td>\n",
       "    </tr>\n",
       "    <tr>\n",
       "      <th>2</th>\n",
       "      <td>M000003</td>\n",
       "      <td>578: Phát đạn của kẻ điên</td>\n",
       "    </tr>\n",
       "    <tr>\n",
       "      <th>3</th>\n",
       "      <td>M000004</td>\n",
       "      <td>Ai thương ai mến</td>\n",
       "    </tr>\n",
       "    <tr>\n",
       "      <th>4</th>\n",
       "      <td>M000005</td>\n",
       "      <td>B4S – Trước giờ \"Yêu\"</td>\n",
       "    </tr>\n",
       "  </tbody>\n",
       "</table>\n",
       "</div>"
      ],
      "text/plain": [
       "  movie_id                 movie_name\n",
       "0  M000001                       1990\n",
       "1  M000002           30 chưa phải tết\n",
       "2  M000003  578: Phát đạn của kẻ điên\n",
       "3  M000004           Ai thương ai mến\n",
       "4  M000005      B4S – Trước giờ \"Yêu\""
      ]
     },
     "metadata": {},
     "output_type": "display_data"
    },
    {
     "data": {
      "application/vnd.microsoft.datawrangler.viewer.v0+json": {
       "columns": [
        {
         "name": "index",
         "rawType": "int64",
         "type": "integer"
        },
        {
         "name": "actor_id",
         "rawType": "object",
         "type": "string"
        },
        {
         "name": "actor_name",
         "rawType": "object",
         "type": "string"
        }
       ],
       "ref": "20c08217-3aca-4c40-b2bd-0bc575c09a36",
       "rows": [
        [
         "0",
         "A000001",
         "A Tới"
        ],
        [
         "1",
         "A000002",
         "Amee"
        ],
        [
         "2",
         "A000003",
         "Anh Dũng"
        ],
        [
         "3",
         "A000004",
         "Anh Phạm"
        ],
        [
         "4",
         "A000005",
         "Anh Thư"
        ]
       ],
       "shape": {
        "columns": 2,
        "rows": 5
       }
      },
      "text/html": [
       "<div>\n",
       "<style scoped>\n",
       "    .dataframe tbody tr th:only-of-type {\n",
       "        vertical-align: middle;\n",
       "    }\n",
       "\n",
       "    .dataframe tbody tr th {\n",
       "        vertical-align: top;\n",
       "    }\n",
       "\n",
       "    .dataframe thead th {\n",
       "        text-align: right;\n",
       "    }\n",
       "</style>\n",
       "<table border=\"1\" class=\"dataframe\">\n",
       "  <thead>\n",
       "    <tr style=\"text-align: right;\">\n",
       "      <th></th>\n",
       "      <th>actor_id</th>\n",
       "      <th>actor_name</th>\n",
       "    </tr>\n",
       "  </thead>\n",
       "  <tbody>\n",
       "    <tr>\n",
       "      <th>0</th>\n",
       "      <td>A000001</td>\n",
       "      <td>A Tới</td>\n",
       "    </tr>\n",
       "    <tr>\n",
       "      <th>1</th>\n",
       "      <td>A000002</td>\n",
       "      <td>Amee</td>\n",
       "    </tr>\n",
       "    <tr>\n",
       "      <th>2</th>\n",
       "      <td>A000003</td>\n",
       "      <td>Anh Dũng</td>\n",
       "    </tr>\n",
       "    <tr>\n",
       "      <th>3</th>\n",
       "      <td>A000004</td>\n",
       "      <td>Anh Phạm</td>\n",
       "    </tr>\n",
       "    <tr>\n",
       "      <th>4</th>\n",
       "      <td>A000005</td>\n",
       "      <td>Anh Thư</td>\n",
       "    </tr>\n",
       "  </tbody>\n",
       "</table>\n",
       "</div>"
      ],
      "text/plain": [
       "  actor_id actor_name\n",
       "0  A000001      A Tới\n",
       "1  A000002       Amee\n",
       "2  A000003   Anh Dũng\n",
       "3  A000004   Anh Phạm\n",
       "4  A000005    Anh Thư"
      ]
     },
     "metadata": {},
     "output_type": "display_data"
    }
   ],
   "source": [
    "\n",
    "# Đếm số dòng NA và trùng\n",
    "na_rows = movies_actors_df.isna().any(axis=1).sum()\n",
    "dup_rows = len(movies_actors_df) - len(movies_actors_df.drop_duplicates(subset=['movie_id','actor_id']))\n",
    "\n",
    "print(f\"- Dòng có NA: {na_rows}\")\n",
    "print(f\"- Dòng trùng: {dup_rows}\")\n",
    "print(f\"- Tổng số quan hệ phim–diễn viên: {len(movies_actors_df)}\")\n",
    "\n",
    "# Tạo bảng ánh xạ (mapping) từ ID sang tên để tra cứu label\n",
    "movies_map_df = movies_df[['movie_id','movie_name']].drop_duplicates('movie_id').reset_index(drop=True)\n",
    "actors_map_df = actors_df[['actor_id','actor_name']].drop_duplicates('actor_id').reset_index(drop=True)\n",
    "\n",
    "print(f\"- movies_actors: {movies_actors_df.shape} (movie_id, actor_id)\")\n",
    "print(f\"- movies: {movies_map_df.shape} (movie_id, movie_name)\")\n",
    "print(f\"- actors: {actors_map_df.shape} (actor_id, actor_name)\")\n",
    "\n",
    "display(movies_actors_df.head(10))\n",
    "display(movies_map_df.head(5))\n",
    "display(actors_map_df.head(5))"
   ]
  },
  {
   "cell_type": "markdown",
   "id": "05eedcdd",
   "metadata": {},
   "source": [
    "## tạo node"
   ]
  },
  {
   "cell_type": "code",
   "execution_count": 16,
   "id": "336d5ba9",
   "metadata": {},
   "outputs": [
    {
     "name": "stdout",
     "output_type": "stream",
     "text": [
      "Số node (diễn viên): 569\n"
     ]
    },
    {
     "data": {
      "application/vnd.microsoft.datawrangler.viewer.v0+json": {
       "columns": [
        {
         "name": "index",
         "rawType": "int64",
         "type": "integer"
        },
        {
         "name": "id",
         "rawType": "object",
         "type": "string"
        },
        {
         "name": "label",
         "rawType": "object",
         "type": "string"
        }
       ],
       "ref": "fe0b8278-d165-4cae-ac56-d406b53b2c9a",
       "rows": [
        [
         "0",
         "A000001",
         "A Tới"
        ],
        [
         "1",
         "A000002",
         "Amee"
        ],
        [
         "2",
         "A000003",
         "Anh Dũng"
        ],
        [
         "3",
         "A000004",
         "Anh Phạm"
        ],
        [
         "4",
         "A000005",
         "Anh Thư"
        ],
        [
         "5",
         "A000006",
         "Anh Tuấn"
        ],
        [
         "6",
         "A000007",
         "Anh Tài"
        ],
        [
         "7",
         "A000008",
         "Anh Tú"
        ],
        [
         "8",
         "A000009",
         "Anh Tú Atus"
        ],
        [
         "9",
         "A000010",
         "Anh Tú Wilson"
        ]
       ],
       "shape": {
        "columns": 2,
        "rows": 10
       }
      },
      "text/html": [
       "<div>\n",
       "<style scoped>\n",
       "    .dataframe tbody tr th:only-of-type {\n",
       "        vertical-align: middle;\n",
       "    }\n",
       "\n",
       "    .dataframe tbody tr th {\n",
       "        vertical-align: top;\n",
       "    }\n",
       "\n",
       "    .dataframe thead th {\n",
       "        text-align: right;\n",
       "    }\n",
       "</style>\n",
       "<table border=\"1\" class=\"dataframe\">\n",
       "  <thead>\n",
       "    <tr style=\"text-align: right;\">\n",
       "      <th></th>\n",
       "      <th>id</th>\n",
       "      <th>label</th>\n",
       "    </tr>\n",
       "  </thead>\n",
       "  <tbody>\n",
       "    <tr>\n",
       "      <th>0</th>\n",
       "      <td>A000001</td>\n",
       "      <td>A Tới</td>\n",
       "    </tr>\n",
       "    <tr>\n",
       "      <th>1</th>\n",
       "      <td>A000002</td>\n",
       "      <td>Amee</td>\n",
       "    </tr>\n",
       "    <tr>\n",
       "      <th>2</th>\n",
       "      <td>A000003</td>\n",
       "      <td>Anh Dũng</td>\n",
       "    </tr>\n",
       "    <tr>\n",
       "      <th>3</th>\n",
       "      <td>A000004</td>\n",
       "      <td>Anh Phạm</td>\n",
       "    </tr>\n",
       "    <tr>\n",
       "      <th>4</th>\n",
       "      <td>A000005</td>\n",
       "      <td>Anh Thư</td>\n",
       "    </tr>\n",
       "    <tr>\n",
       "      <th>5</th>\n",
       "      <td>A000006</td>\n",
       "      <td>Anh Tuấn</td>\n",
       "    </tr>\n",
       "    <tr>\n",
       "      <th>6</th>\n",
       "      <td>A000007</td>\n",
       "      <td>Anh Tài</td>\n",
       "    </tr>\n",
       "    <tr>\n",
       "      <th>7</th>\n",
       "      <td>A000008</td>\n",
       "      <td>Anh Tú</td>\n",
       "    </tr>\n",
       "    <tr>\n",
       "      <th>8</th>\n",
       "      <td>A000009</td>\n",
       "      <td>Anh Tú Atus</td>\n",
       "    </tr>\n",
       "    <tr>\n",
       "      <th>9</th>\n",
       "      <td>A000010</td>\n",
       "      <td>Anh Tú Wilson</td>\n",
       "    </tr>\n",
       "  </tbody>\n",
       "</table>\n",
       "</div>"
      ],
      "text/plain": [
       "        id          label\n",
       "0  A000001          A Tới\n",
       "1  A000002           Amee\n",
       "2  A000003       Anh Dũng\n",
       "3  A000004       Anh Phạm\n",
       "4  A000005        Anh Thư\n",
       "5  A000006       Anh Tuấn\n",
       "6  A000007        Anh Tài\n",
       "7  A000008         Anh Tú\n",
       "8  A000009    Anh Tú Atus\n",
       "9  A000010  Anh Tú Wilson"
      ]
     },
     "metadata": {},
     "output_type": "display_data"
    }
   ],
   "source": [
    "# nodes_df: id, label\n",
    "nodes_df = actors_df.rename(columns={\n",
    "    \"actor_id\": \"id\",\n",
    "    \"actor_name\": \"label\"\n",
    "})[[\"id\", \"label\"]].drop_duplicates().reset_index(drop=True)\n",
    "\n",
    "print(f\"Số node (diễn viên): {len(nodes_df)}\")\n",
    "display(nodes_df.head(10))"
   ]
  },
  {
   "cell_type": "markdown",
   "id": "4f0ba90c",
   "metadata": {},
   "source": [
    "## tạo cạnh"
   ]
  },
  {
   "cell_type": "code",
   "execution_count": 17,
   "id": "79747f1e",
   "metadata": {},
   "outputs": [
    {
     "name": "stdout",
     "output_type": "stream",
     "text": [
      "Cặp cộng tác thô (chưa gộp trọng số): 3510\n",
      "Số cạnh sau gộp trọng số: 3405\n",
      "Thống kê trọng số — min: 1 | max: 6 | mean: 1.03\n"
     ]
    },
    {
     "data": {
      "application/vnd.microsoft.datawrangler.viewer.v0+json": {
       "columns": [
        {
         "name": "index",
         "rawType": "int64",
         "type": "integer"
        },
        {
         "name": "source",
         "rawType": "object",
         "type": "string"
        },
        {
         "name": "target",
         "rawType": "object",
         "type": "string"
        },
        {
         "name": "weight",
         "rawType": "int64",
         "type": "integer"
        }
       ],
       "ref": "55725bd2-8927-4666-aee4-369530c8aa2e",
       "rows": [
        [
         "0",
         "A000001",
         "A000023",
         "1"
        ],
        [
         "1",
         "A000001",
         "A000107",
         "1"
        ],
        [
         "2",
         "A000001",
         "A000262",
         "1"
        ],
        [
         "3",
         "A000001",
         "A000310",
         "1"
        ],
        [
         "4",
         "A000001",
         "A000363",
         "1"
        ],
        [
         "5",
         "A000001",
         "A000472",
         "1"
        ],
        [
         "6",
         "A000001",
         "A000477",
         "1"
        ],
        [
         "7",
         "A000002",
         "A000395",
         "1"
        ],
        [
         "8",
         "A000002",
         "A000398",
         "1"
        ],
        [
         "9",
         "A000002",
         "A000456",
         "1"
        ]
       ],
       "shape": {
        "columns": 3,
        "rows": 10
       }
      },
      "text/html": [
       "<div>\n",
       "<style scoped>\n",
       "    .dataframe tbody tr th:only-of-type {\n",
       "        vertical-align: middle;\n",
       "    }\n",
       "\n",
       "    .dataframe tbody tr th {\n",
       "        vertical-align: top;\n",
       "    }\n",
       "\n",
       "    .dataframe thead th {\n",
       "        text-align: right;\n",
       "    }\n",
       "</style>\n",
       "<table border=\"1\" class=\"dataframe\">\n",
       "  <thead>\n",
       "    <tr style=\"text-align: right;\">\n",
       "      <th></th>\n",
       "      <th>source</th>\n",
       "      <th>target</th>\n",
       "      <th>weight</th>\n",
       "    </tr>\n",
       "  </thead>\n",
       "  <tbody>\n",
       "    <tr>\n",
       "      <th>0</th>\n",
       "      <td>A000001</td>\n",
       "      <td>A000023</td>\n",
       "      <td>1</td>\n",
       "    </tr>\n",
       "    <tr>\n",
       "      <th>1</th>\n",
       "      <td>A000001</td>\n",
       "      <td>A000107</td>\n",
       "      <td>1</td>\n",
       "    </tr>\n",
       "    <tr>\n",
       "      <th>2</th>\n",
       "      <td>A000001</td>\n",
       "      <td>A000262</td>\n",
       "      <td>1</td>\n",
       "    </tr>\n",
       "    <tr>\n",
       "      <th>3</th>\n",
       "      <td>A000001</td>\n",
       "      <td>A000310</td>\n",
       "      <td>1</td>\n",
       "    </tr>\n",
       "    <tr>\n",
       "      <th>4</th>\n",
       "      <td>A000001</td>\n",
       "      <td>A000363</td>\n",
       "      <td>1</td>\n",
       "    </tr>\n",
       "    <tr>\n",
       "      <th>5</th>\n",
       "      <td>A000001</td>\n",
       "      <td>A000472</td>\n",
       "      <td>1</td>\n",
       "    </tr>\n",
       "    <tr>\n",
       "      <th>6</th>\n",
       "      <td>A000001</td>\n",
       "      <td>A000477</td>\n",
       "      <td>1</td>\n",
       "    </tr>\n",
       "    <tr>\n",
       "      <th>7</th>\n",
       "      <td>A000002</td>\n",
       "      <td>A000395</td>\n",
       "      <td>1</td>\n",
       "    </tr>\n",
       "    <tr>\n",
       "      <th>8</th>\n",
       "      <td>A000002</td>\n",
       "      <td>A000398</td>\n",
       "      <td>1</td>\n",
       "    </tr>\n",
       "    <tr>\n",
       "      <th>9</th>\n",
       "      <td>A000002</td>\n",
       "      <td>A000456</td>\n",
       "      <td>1</td>\n",
       "    </tr>\n",
       "  </tbody>\n",
       "</table>\n",
       "</div>"
      ],
      "text/plain": [
       "    source   target  weight\n",
       "0  A000001  A000023       1\n",
       "1  A000001  A000107       1\n",
       "2  A000001  A000262       1\n",
       "3  A000001  A000310       1\n",
       "4  A000001  A000363       1\n",
       "5  A000001  A000472       1\n",
       "6  A000001  A000477       1\n",
       "7  A000002  A000395       1\n",
       "8  A000002  A000398       1\n",
       "9  A000002  A000456       1"
      ]
     },
     "metadata": {},
     "output_type": "display_data"
    }
   ],
   "source": [
    "from itertools import combinations\n",
    "import pandas as pd\n",
    "\n",
    "#Danh sách diễn viên theo từng phim\n",
    "cast_by_movie = (\n",
    "    movies_actors_df\n",
    "    .drop_duplicates(subset=[\"movie_id\", \"actor_id\"])\n",
    "    .groupby(\"movie_id\")[\"actor_id\"]\n",
    "    .apply(list)\n",
    "    .reset_index()\n",
    ")\n",
    "\n",
    "# Sinh cặp cho từng phim\n",
    "edge_rows = []\n",
    "for _, row in cast_by_movie.iterrows():\n",
    "    movie = row[\"movie_id\"]\n",
    "    actors_in_movie = row[\"actor_id\"]\n",
    "    # Nếu phim có <2 diễn viên thì không tạo cạnh\n",
    "    if len(actors_in_movie) < 2:\n",
    "        continue\n",
    "    for a, b in combinations(actors_in_movie, 2):\n",
    "        # Chuẩn hoá cặp không hướng\n",
    "        s, t = sorted([a, b])\n",
    "        edge_rows.append((s, t, 1))\n",
    "\n",
    "edges_raw = pd.DataFrame(edge_rows, columns=[\"source\", \"target\", \"w\"])\n",
    "print(f\"Cặp cộng tác thô (chưa gộp trọng số): {len(edges_raw)}\")\n",
    "\n",
    "# 5.3 — Gộp theo (source, target) để tính weight = số phim chung\n",
    "edges_df = (\n",
    "    edges_raw\n",
    "    .groupby([\"source\", \"target\"], as_index=False)[\"w\"]\n",
    "    .sum()\n",
    "    .rename(columns={\"w\": \"weight\"})\n",
    ")\n",
    "\n",
    "# 5.4 — Loại self-loop (phòng hờ) và kiểm tra\n",
    "edges_df = edges_df[edges_df[\"source\"] != edges_df[\"target\"]].reset_index(drop=True)\n",
    "\n",
    "print(f\"Số cạnh sau gộp trọng số: {len(edges_df)}\")\n",
    "print(f\"Thống kê trọng số — min: {edges_df.weight.min()} | max: {edges_df.weight.max()} | mean: {edges_df.weight.mean():.2f}\")\n",
    "display(edges_df.head(10))"
   ]
  },
  {
   "cell_type": "code",
   "execution_count": 20,
   "id": "c98a02cc",
   "metadata": {},
   "outputs": [
    {
     "name": "stdout",
     "output_type": "stream",
     "text": [
      "- Node NA rows: 0\n",
      "- Edge NA rows: 0\n",
      "- Self-loops: 0\n",
      "- Edge duplicates (sau gộp): 0\n",
      "- Edges có id không hợp lệ (không có trong nodes): 0\n",
      "\n",
      "== Thống kê ==\n",
      "- Số node: 569\n",
      "- Số edge (weight >= 1): 3405\n",
      "- Trọng số: min=1 | max=6 | mean=1.03\n"
     ]
    },
    {
     "data": {
      "application/vnd.microsoft.datawrangler.viewer.v0+json": {
       "columns": [
        {
         "name": "index",
         "rawType": "int64",
         "type": "integer"
        },
        {
         "name": "id",
         "rawType": "object",
         "type": "string"
        },
        {
         "name": "label",
         "rawType": "object",
         "type": "string"
        }
       ],
       "ref": "5be72324-5c32-40cf-af24-d0a1fd4535db",
       "rows": [
        [
         "0",
         "A000001",
         "A Tới"
        ],
        [
         "1",
         "A000002",
         "Amee"
        ],
        [
         "2",
         "A000003",
         "Anh Dũng"
        ],
        [
         "3",
         "A000004",
         "Anh Phạm"
        ],
        [
         "4",
         "A000005",
         "Anh Thư"
        ]
       ],
       "shape": {
        "columns": 2,
        "rows": 5
       }
      },
      "text/html": [
       "<div>\n",
       "<style scoped>\n",
       "    .dataframe tbody tr th:only-of-type {\n",
       "        vertical-align: middle;\n",
       "    }\n",
       "\n",
       "    .dataframe tbody tr th {\n",
       "        vertical-align: top;\n",
       "    }\n",
       "\n",
       "    .dataframe thead th {\n",
       "        text-align: right;\n",
       "    }\n",
       "</style>\n",
       "<table border=\"1\" class=\"dataframe\">\n",
       "  <thead>\n",
       "    <tr style=\"text-align: right;\">\n",
       "      <th></th>\n",
       "      <th>id</th>\n",
       "      <th>label</th>\n",
       "    </tr>\n",
       "  </thead>\n",
       "  <tbody>\n",
       "    <tr>\n",
       "      <th>0</th>\n",
       "      <td>A000001</td>\n",
       "      <td>A Tới</td>\n",
       "    </tr>\n",
       "    <tr>\n",
       "      <th>1</th>\n",
       "      <td>A000002</td>\n",
       "      <td>Amee</td>\n",
       "    </tr>\n",
       "    <tr>\n",
       "      <th>2</th>\n",
       "      <td>A000003</td>\n",
       "      <td>Anh Dũng</td>\n",
       "    </tr>\n",
       "    <tr>\n",
       "      <th>3</th>\n",
       "      <td>A000004</td>\n",
       "      <td>Anh Phạm</td>\n",
       "    </tr>\n",
       "    <tr>\n",
       "      <th>4</th>\n",
       "      <td>A000005</td>\n",
       "      <td>Anh Thư</td>\n",
       "    </tr>\n",
       "  </tbody>\n",
       "</table>\n",
       "</div>"
      ],
      "text/plain": [
       "        id     label\n",
       "0  A000001     A Tới\n",
       "1  A000002      Amee\n",
       "2  A000003  Anh Dũng\n",
       "3  A000004  Anh Phạm\n",
       "4  A000005   Anh Thư"
      ]
     },
     "metadata": {},
     "output_type": "display_data"
    },
    {
     "data": {
      "application/vnd.microsoft.datawrangler.viewer.v0+json": {
       "columns": [
        {
         "name": "index",
         "rawType": "int64",
         "type": "integer"
        },
        {
         "name": "source",
         "rawType": "object",
         "type": "string"
        },
        {
         "name": "target",
         "rawType": "object",
         "type": "string"
        },
        {
         "name": "weight",
         "rawType": "int64",
         "type": "integer"
        }
       ],
       "ref": "848c1af8-463e-4a91-954d-312587c2bf92",
       "rows": [
        [
         "0",
         "A000001",
         "A000023",
         "1"
        ],
        [
         "1",
         "A000001",
         "A000107",
         "1"
        ],
        [
         "2",
         "A000001",
         "A000262",
         "1"
        ],
        [
         "3",
         "A000001",
         "A000310",
         "1"
        ],
        [
         "4",
         "A000001",
         "A000363",
         "1"
        ]
       ],
       "shape": {
        "columns": 3,
        "rows": 5
       }
      },
      "text/html": [
       "<div>\n",
       "<style scoped>\n",
       "    .dataframe tbody tr th:only-of-type {\n",
       "        vertical-align: middle;\n",
       "    }\n",
       "\n",
       "    .dataframe tbody tr th {\n",
       "        vertical-align: top;\n",
       "    }\n",
       "\n",
       "    .dataframe thead th {\n",
       "        text-align: right;\n",
       "    }\n",
       "</style>\n",
       "<table border=\"1\" class=\"dataframe\">\n",
       "  <thead>\n",
       "    <tr style=\"text-align: right;\">\n",
       "      <th></th>\n",
       "      <th>source</th>\n",
       "      <th>target</th>\n",
       "      <th>weight</th>\n",
       "    </tr>\n",
       "  </thead>\n",
       "  <tbody>\n",
       "    <tr>\n",
       "      <th>0</th>\n",
       "      <td>A000001</td>\n",
       "      <td>A000023</td>\n",
       "      <td>1</td>\n",
       "    </tr>\n",
       "    <tr>\n",
       "      <th>1</th>\n",
       "      <td>A000001</td>\n",
       "      <td>A000107</td>\n",
       "      <td>1</td>\n",
       "    </tr>\n",
       "    <tr>\n",
       "      <th>2</th>\n",
       "      <td>A000001</td>\n",
       "      <td>A000262</td>\n",
       "      <td>1</td>\n",
       "    </tr>\n",
       "    <tr>\n",
       "      <th>3</th>\n",
       "      <td>A000001</td>\n",
       "      <td>A000310</td>\n",
       "      <td>1</td>\n",
       "    </tr>\n",
       "    <tr>\n",
       "      <th>4</th>\n",
       "      <td>A000001</td>\n",
       "      <td>A000363</td>\n",
       "      <td>1</td>\n",
       "    </tr>\n",
       "  </tbody>\n",
       "</table>\n",
       "</div>"
      ],
      "text/plain": [
       "    source   target  weight\n",
       "0  A000001  A000023       1\n",
       "1  A000001  A000107       1\n",
       "2  A000001  A000262       1\n",
       "3  A000001  A000310       1\n",
       "4  A000001  A000363       1"
      ]
     },
     "metadata": {},
     "output_type": "display_data"
    },
    {
     "name": "stdout",
     "output_type": "stream",
     "text": [
      "- nodes.csv (cột: id, label)\n",
      "- edges.csv (cột: source, target, weight) — undirected\n"
     ]
    }
   ],
   "source": [
    "# ==== Bước 6 — Kiểm tra & Xuất nodes.csv, edges.csv ====\n",
    "\n",
    "import pandas as pd\n",
    "\n",
    "# 6.1 — Kiểm tra tính toàn vẹn\n",
    "assert set(['id','label']).issubset(nodes_df.columns), \"nodes_df thiếu cột id/label\"\n",
    "assert set(['source','target','weight']).issubset(edges_df.columns), \"edges_df thiếu cột source/target/weight\"\n",
    "\n",
    "# Không NA\n",
    "na_nodes = nodes_df.isna().any(axis=1).sum()\n",
    "na_edges = edges_df.isna().any(axis=1).sum()\n",
    "\n",
    "# Source/target phải nằm trong nodes\n",
    "node_ids = set(nodes_df['id'].tolist())\n",
    "invalid_edges = edges_df[~edges_df['source'].isin(node_ids) | ~edges_df['target'].isin(node_ids)]\n",
    "\n",
    "# Không self-loop & không trùng edge (đã gộp trọng số)\n",
    "self_loops = (edges_df['source'] == edges_df['target']).sum()\n",
    "dup_edges = len(edges_df) - len(edges_df.drop_duplicates(subset=['source','target']))\n",
    "\n",
    "print(f\"- Node NA rows: {na_nodes}\")\n",
    "print(f\"- Edge NA rows: {na_edges}\")\n",
    "print(f\"- Self-loops: {self_loops}\")\n",
    "print(f\"- Edge duplicates (sau gộp): {dup_edges}\")\n",
    "print(f\"- Edges có id không hợp lệ (không có trong nodes): {len(invalid_edges)}\")\n",
    "\n",
    "# 6.2 — (Tuỳ chọn) Lọc theo ngưỡng trọng số để đơn giản hoá đồ thị khi vẽ\n",
    "MIN_WEIGHT = 1   # đổi thành 2 hoặc 3 nếu muốn bớt rối khi vẽ trong Gephi\n",
    "edges_to_export = edges_df[edges_df['weight'] >= MIN_WEIGHT].reset_index(drop=True)\n",
    "\n",
    "print(f\"\\n== Thống kê ==\")\n",
    "print(f\"- Số node: {len(nodes_df)}\")\n",
    "print(f\"- Số edge (weight >= {MIN_WEIGHT}): {len(edges_to_export)}\")\n",
    "print(f\"- Trọng số: min={edges_to_export['weight'].min()} | max={edges_to_export['weight'].max()} | mean={edges_to_export['weight'].mean():.2f}\")\n",
    "\n",
    "display(nodes_df.head(5))\n",
    "display(edges_to_export.head(5))\n",
    "\n",
    "# 6.3 — Xuất CSV (UTF-8 BOM để mở Excel tiếng Việt không lỗi dấu)\n",
    "nodes_df[['id','label']].to_csv(\"nodes.csv\", index=False, encoding=\"utf-8-sig\")\n",
    "edges_to_export[['source','target','weight']].to_csv(\"edges.csv\", index=False, encoding=\"utf-8-sig\")\n",
    "\n",
    "\n",
    "print(\"- nodes.csv (cột: id, label)\")\n",
    "print(\"- edges.csv (cột: source, target, weight) — undirected\")"
   ]
  },
  {
   "cell_type": "code",
   "execution_count": 21,
   "id": "46ed83fa",
   "metadata": {},
   "outputs": [
    {
     "name": "stdout",
     "output_type": "stream",
     "text": [
      "Top 10 cặp diễn viên hợp tác nhiều phim nhất:\n",
      "        actor_source   actor_target  weight\n",
      "1670  Kiều Minh Tuấn      Thu Trang       6\n",
      "3191       Thu Trang      Tiến Luật       4\n",
      "3041      Quốc Khánh      Tuấn Trần       4\n",
      "3307      Trấn Thành      Tuấn Trần       3\n",
      "1095      Huỳnh Đông   Ốc Thanh Vân       3\n",
      "1942        Lê Giang     Trấn Thành       3\n",
      "1567        Khả Ngân  Long Đẹp Trai       2\n",
      "1600         Khả Như     Trấn Thành       2\n",
      "262          Băng Di  NSƯT Hữu Châu       2\n",
      "1965        Lê Khánh      Tuấn Khải       2\n"
     ]
    }
   ],
   "source": [
    "# Nối edges_df với bảng actors để lấy tên diễn viên\n",
    "edges_named = edges_df.merge(\n",
    "    actors_df[['actor_id', 'actor_name']], left_on='source', right_on='actor_id'\n",
    ").rename(columns={'actor_name': 'actor_source'}).drop('actor_id', axis=1)\n",
    "\n",
    "edges_named = edges_named.merge(\n",
    "    actors_df[['actor_id', 'actor_name']], left_on='target', right_on='actor_id'\n",
    ").rename(columns={'actor_name': 'actor_target'}).drop('actor_id', axis=1)\n",
    "\n",
    "# Sắp xếp theo weight giảm dần\n",
    "top10_pairs = edges_named.sort_values('weight', ascending=False).head(10)\n",
    "\n",
    "print(\"Top 10 cặp diễn viên hợp tác nhiều phim nhất:\")\n",
    "print(top10_pairs[['actor_source', 'actor_target', 'weight']])"
   ]
  },
  {
   "cell_type": "code",
   "execution_count": 26,
   "id": "64daf98e",
   "metadata": {},
   "outputs": [
    {
     "name": "stdout",
     "output_type": "stream",
     "text": [
      "== Thống kê (Python) ==\n",
      "- Nodes: 569\n",
      "- Edges: 3405\n",
      "- Average degree: 11.968\n",
      "- Density: 0.021071\n",
      "- Connected components: 13 (Giant size = 545)\n",
      "- Average clustering (unweighted): 0.7824\n",
      "- Average clustering (weighted):   0.1329\n",
      "- Diameter (giant component): 7\n"
     ]
    }
   ],
   "source": [
    "# == BƯỚC 8: TẠO GRAPH & TÍNH CHỈ SỐ MÔ TẢ ==\n",
    "# Đang làm gì: dựng đồ thị vô hướng có trọng số từ edges_df, thêm đủ node từ nodes_df (kể cả node cô lập),\n",
    "# rồi tính n, m, degree trung bình, density, số thành phần liên thông, clustering, diameter (trên thành phần lớn nhất).\n",
    "\n",
    "import networkx as nx\n",
    "\n",
    "# 1) Dựng graph vô hướng có trọng số\n",
    "G = nx.Graph()\n",
    "# Thêm node với nhãn (để tra cứu nhanh)\n",
    "G.add_nodes_from([(row.id, {\"label\": row.label}) for _, row in nodes_df.iterrows()])\n",
    "\n",
    "# Thêm cạnh có weight\n",
    "for _, r in edges_df.iterrows():\n",
    "    G.add_edge(r[\"source\"], r[\"target\"], weight=float(r[\"weight\"]))\n",
    "\n",
    "# 2) Thêm khoảng cách ngắn nhất = 1/weight (để centrality so khớp cách Gephi dùng weight như \"độ gần\")\n",
    "for u, v, d in G.edges(data=True):\n",
    "    w = d.get(\"weight\", 1.0)\n",
    "    d[\"inv_weight\"] = 1.0 / w if w > 0 else 1.0\n",
    "\n",
    "# 3) Thống kê mô tả\n",
    "n = G.number_of_nodes()\n",
    "m = G.number_of_edges()\n",
    "avg_degree = (2.0 * m / n) if n > 0 else 0.0\n",
    "density = nx.density(G)\n",
    "\n",
    "# Thành phần liên thông\n",
    "components = sorted(nx.connected_components(G), key=len, reverse=True)\n",
    "n_components = len(components)\n",
    "giant = G.subgraph(components[0]).copy() if components else nx.Graph()\n",
    "\n",
    "# Clustering (unweighted & weighted)\n",
    "avg_clust = nx.average_clustering(G)\n",
    "avg_clust_w = nx.average_clustering(G, weight=\"weight\")\n",
    "\n",
    "# Diameter trên thành phần lớn nhất (không dùng trọng số)\n",
    "diameter = nx.diameter(giant) if giant.number_of_nodes() > 1 else 0\n",
    "\n",
    "print(\"== Thống kê (Python) ==\")\n",
    "print(f\"- Nodes: {n}\")\n",
    "print(f\"- Edges: {m}\")\n",
    "print(f\"- Average degree: {avg_degree:.3f}\")\n",
    "print(f\"- Density: {density:.6f}\")\n",
    "print(f\"- Connected components: {n_components} (Giant size = {giant.number_of_nodes()})\")\n",
    "print(f\"- Average clustering (unweighted): {avg_clust:.4f}\")\n",
    "print(f\"- Average clustering (weighted):   {avg_clust_w:.4f}\")\n",
    "print(f\"- Diameter (giant component): {diameter}\")"
   ]
  },
  {
   "cell_type": "code",
   "execution_count": 30,
   "id": "389c20f2",
   "metadata": {},
   "outputs": [
    {
     "name": "stdout",
     "output_type": "stream",
     "text": [
      "\n",
      "== THỐNG KÊ (toàn bộ đồ thị) ==\n",
      "- Nodes: 569\n",
      "- Edges: 3405\n",
      "- Average degree: 11.968\n",
      "- Density: 0.021071\n",
      "- Connected components: 13 (giant = 545)\n",
      "- Average clustering (unweighted): 0.7824\n",
      "- Diameter (giant): 7\n",
      "- Average path length (giant): 3.1644\n",
      "\n",
      "== THỐNG KÊ (khớp Gephi: bỏ isolates) ==\n",
      "- Nodes: 563\n",
      "- Edges: 3405\n",
      "- Average degree: 12.096\n",
      "- Density: 0.021523\n",
      "- Connected components: 7 (giant = 545)\n",
      "- Average clustering (unweighted): 0.7907\n",
      "- Diameter (giant): 7\n",
      "- Average path length (giant): 3.1644\n"
     ]
    }
   ],
   "source": [
    "import networkx as nx\n",
    "\n",
    "# ===== DỰNG GRAPH VÔ HƯỚNG (giữ weight = số phim chung) =====\n",
    "G = nx.Graph()\n",
    "G.add_nodes_from(nodes_df[\"id\"].tolist())\n",
    "for _, r in edges_df.iterrows():\n",
    "    G.add_edge(r[\"source\"], r[\"target\"], weight=float(r[\"weight\"]))\n",
    "\n",
    "# Đồ thị “Gephi”: bỏ node bậc 0 (không có cạnh)\n",
    "isolates = [n for n, d in G.degree() if d == 0]\n",
    "G_gephi = G.copy()\n",
    "G_gephi.remove_nodes_from(isolates)\n",
    "\n",
    "def summarize_graph(Gx, title):\n",
    "    n = Gx.number_of_nodes()\n",
    "    m = Gx.number_of_edges()\n",
    "    avg_degree = (2*m/n) if n else 0.0\n",
    "    density = nx.density(Gx)\n",
    "    comps = sorted(nx.connected_components(Gx), key=len, reverse=True)\n",
    "    n_components = len(comps)\n",
    "    giant = Gx.subgraph(comps[0]).copy() if comps else nx.Graph()\n",
    "    avg_clust = nx.average_clustering(Gx)  # unweighted (giống Gephi mặc định)\n",
    "\n",
    "    if giant.number_of_nodes() > 1:\n",
    "        diameter = nx.diameter(giant)\n",
    "        avg_path_len = nx.average_shortest_path_length(giant)\n",
    "    else:\n",
    "        diameter = 0\n",
    "        avg_path_len = 0.0\n",
    "\n",
    "    print(f\"\\n== {title} ==\")\n",
    "    print(f\"- Nodes: {n}\")\n",
    "    print(f\"- Edges: {m}\")\n",
    "    print(f\"- Average degree: {avg_degree:.3f}\")\n",
    "    print(f\"- Density: {density:.6f}\")\n",
    "    print(f\"- Connected components: {n_components} (giant = {giant.number_of_nodes()})\")\n",
    "    print(f\"- Average clustering (unweighted): {avg_clust:.4f}\")\n",
    "    print(f\"- Diameter (giant): {diameter}\")\n",
    "    print(f\"- Average path length (giant): {avg_path_len:.4f}\")\n",
    "\n",
    "# 1) Toàn bộ đồ thị (có isolates) — sẽ cho 569 nodes\n",
    "summarize_graph(G, \"THỐNG KÊ (toàn bộ đồ thị)\")\n",
    "\n",
    "# 2) Đồ thị như Gephi (loại isolates) — sẽ khớp ~563 nodes, 3405 edges\n",
    "summarize_graph(G_gephi, \"THỐNG KÊ (khớp Gephi: bỏ isolates)\")"
   ]
  },
  {
   "cell_type": "code",
   "execution_count": 31,
   "id": "2e36c786",
   "metadata": {},
   "outputs": [
    {
     "name": "stdout",
     "output_type": "stream",
     "text": [
      "== Top 10 Betweenness (RAW, kiểu số lớn giống Gephi) ==\n",
      "           label  betweenness_raw\n",
      "   NSƯT Hữu Châu     16053.505244\n",
      "      Quốc Cường     11311.741356\n",
      "   NSND Hồng Vân      9689.500236\n",
      "      Quang Tuấn      9600.048530\n",
      "Quách Ngọc Tuyên      6706.935989\n",
      "      Hứa Vĩ Văn      6432.052757\n",
      "    Mạc Văn Khoa      5778.444777\n",
      "       Tuấn Trần      5679.260224\n",
      "     Thanh Hương      5380.485134\n",
      "        Trần Lực      5322.479461\n",
      "\n",
      "== Top 10 Betweenness (Normalized 0..1) ==\n",
      "           label  betweenness_norm\n",
      "   NSƯT Hữu Châu          0.101836\n",
      "      Quốc Cường          0.071756\n",
      "   NSND Hồng Vân          0.061466\n",
      "      Quang Tuấn          0.060898\n",
      "Quách Ngọc Tuyên          0.042546\n",
      "      Hứa Vĩ Văn          0.040802\n",
      "    Mạc Văn Khoa          0.036656\n",
      "       Tuấn Trần          0.036027\n",
      "     Thanh Hương          0.034131\n",
      "        Trần Lực          0.033763\n",
      "\n",
      "== Top 10 Closeness (0..1) ==\n",
      "           label  closeness\n",
      "   NSƯT Hữu Châu   0.446251\n",
      "   NSND Hồng Vân   0.426378\n",
      "      Quang Tuấn   0.418250\n",
      "  Kiều Minh Tuấn   0.414954\n",
      "      Quốc Cường   0.414301\n",
      "       Tuấn Trần   0.413650\n",
      "       Tiến Luật   0.405996\n",
      "       Thu Trang   0.405059\n",
      "         Khả Như   0.403507\n",
      "Quách Ngọc Tuyên   0.400438\n"
     ]
    }
   ],
   "source": [
    "import networkx as nx\n",
    "import pandas as pd\n",
    "\n",
    "# --- 1) Dựng graph khớp Gephi (đã có nodes_df, edges_df như bạn đang dùng) ---\n",
    "G = nx.Graph()\n",
    "G.add_nodes_from(nodes_df[\"id\"].tolist())\n",
    "for _, r in edges_df.iterrows():\n",
    "    G.add_edge(r[\"source\"], r[\"target\"], weight=float(r[\"weight\"]))\n",
    "\n",
    "# Bỏ các node cô lập (gephi cũng bỏ khi import edges trước)\n",
    "isolates = [n for n, d in G.degree() if d == 0]\n",
    "G_gephi = G.copy()\n",
    "G_gephi.remove_nodes_from(isolates)\n",
    "\n",
    "n = G_gephi.number_of_nodes()\n",
    "\n",
    "# --- 2) BETWEenness CENTRALITY ---\n",
    "# NetworkX mặc định normalized=True (đưa về 0..1). Gephi hay hiển thị \"raw\" rất lớn.\n",
    "# Ta tính CẢ HAI để so: normalized & raw (raw = normalized * ((n-1)(n-2)/2) cho graph vô hướng)\n",
    "betw_norm = nx.betweenness_centrality(G_gephi, normalized=True)          # 0..1\n",
    "scale_raw = ((n - 1) * (n - 2)) / 2 if n >= 3 else 1.0\n",
    "betw_raw  = {u: v * scale_raw for u, v in betw_norm.items()}             # giống kiểu số lớn ở Gephi\n",
    "\n",
    "# --- 3) CLOSENESS CENTRALITY ---\n",
    "# NetworkX closeness chuẩn (tính trên các node reachable, có hệ số hiệu chỉnh).\n",
    "# Gephi dùng định nghĩa tương đương; có thể lệch rất nhỏ do cách hiệu chỉnh thành phần rời.\n",
    "close = nx.closeness_centrality(G_gephi)  # 0..1 (cao = gần “toàn mạng” hơn)\n",
    "\n",
    "# --- 4) Gộp kết quả + tên diễn viên ---\n",
    "id_to_name = dict(actors_df[[\"actor_id\",\"actor_name\"]].values)\n",
    "\n",
    "cent_df = pd.DataFrame({\n",
    "    \"id\": list(G_gephi.nodes()),\n",
    "    \"label\": [id_to_name.get(i, i) for i in G_gephi.nodes()],\n",
    "    \"betweenness_raw\": [betw_raw[i]  for i in G_gephi.nodes()],\n",
    "    \"betweenness_norm\": [betw_norm[i] for i in G_gephi.nodes()],\n",
    "    \"closeness\": [close[i] for i in G_gephi.nodes()],\n",
    "})\n",
    "\n",
    "# --- 5) Top 10 cho mỗi chỉ số ---\n",
    "top_betw_raw = cent_df.sort_values(\"betweenness_raw\", ascending=False).head(10)\n",
    "top_betw_norm = cent_df.sort_values(\"betweenness_norm\", ascending=False).head(10)\n",
    "top_close     = cent_df.sort_values(\"closeness\", ascending=False).head(10)\n",
    "\n",
    "print(\"== Top 10 Betweenness (RAW, kiểu số lớn giống Gephi) ==\")\n",
    "print(top_betw_raw[[\"label\",\"betweenness_raw\"]].to_string(index=False))\n",
    "\n",
    "print(\"\\n== Top 10 Betweenness (Normalized 0..1) ==\")\n",
    "print(top_betw_norm[[\"label\",\"betweenness_norm\"]].to_string(index=False))\n",
    "\n",
    "print(\"\\n== Top 10 Closeness (0..1) ==\")\n",
    "print(top_close[[\"label\",\"closeness\"]].to_string(index=False))\n",
    "\n",
    "# --- 6) Xuất CSV để so bên Gephi (Data Laboratory) ---\n",
    "cent_df.to_csv(\"centrality_betweenness_closeness.csv\", index=False, encoding=\"utf-8-sig\")"
   ]
  },
  {
   "cell_type": "code",
   "execution_count": null,
   "id": "e0af6e6e",
   "metadata": {},
   "outputs": [],
   "source": []
  }
 ],
 "metadata": {
  "kernelspec": {
   "display_name": "Python 3",
   "language": "python",
   "name": "python3"
  },
  "language_info": {
   "codemirror_mode": {
    "name": "ipython",
    "version": 3
   },
   "file_extension": ".py",
   "mimetype": "text/x-python",
   "name": "python",
   "nbconvert_exporter": "python",
   "pygments_lexer": "ipython3",
   "version": "3.9.6"
  }
 },
 "nbformat": 4,
 "nbformat_minor": 5
}
